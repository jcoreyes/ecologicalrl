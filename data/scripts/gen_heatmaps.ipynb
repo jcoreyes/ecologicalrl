{
 "cells": [
  {
   "cell_type": "code",
   "execution_count": 1,
   "metadata": {},
   "outputs": [],
   "source": [
    "import os\n",
    "from os.path import join, basename, isfile\n",
    "import numpy as np\n",
    "%matplotlib inline\n",
    "import matplotlib.pyplot as plt\n",
    "from glob import glob\n",
    "import math\n",
    "from itertools import chain\n",
    "import datetime"
   ]
  },
  {
   "cell_type": "code",
   "execution_count": 11,
   "metadata": {},
   "outputs": [],
   "source": [
    "# CONSTS\n",
    "proj_dir = 'PROJ_DIR'\n",
    "data_dir = join(proj_dir, 'data')\n",
    "NUM_EPOCH_CONST = 1900"
   ]
  },
  {
   "cell_type": "code",
   "execution_count": 12,
   "metadata": {},
   "outputs": [],
   "source": [
    "# INPUTS\n",
    "\n",
    "exp_prefix = '10-04-01-tool-dqn-dynamic-static-resetfree'\n",
    "exps_dir = join(data_dir, exp_prefix)\n",
    "# empty seeds list to do all. otherwise list of lists, where inner lists group diff seeds of same exp\n",
    "\n",
    "# resetfree wall axe\n",
    "#seeds = [[51947,52881,12644], [62475,67891,54029], [50059,13719,13246], [63674,58157,44467], [42715,86348,5663]]\n",
    "# reset wall axe\n",
    "#seeds = [[14385,49349,13272], [26671,88259,1725], [48810,2035], [51138,45712,94418], [75533,26175,18905]]\n",
    "# resetfree deer\n",
    "# seeds = [[36188,15142,63542], [31970,46911,65753], [53370,70088,99247], [66452,91302,9412], [33775,75419,83234]]\n",
    "# reset deer\n",
    "#seeds = [[3610,44260,64924], [14757,65465,96399], [10252,41277,44729], [20878,72437,7459], [40095,53219,97867]]\n",
    "\n",
    "seeds = [[49019, 32127], [27923, 43916, 95792]]\n",
    "\n",
    "# titles of exps in positions corresponding to those in `seeds`\n",
    "titles = ['Resource Probability 0.1', 'Static']\n",
    "save_suffix = 'resetfree'\n",
    "save_dir = 'axe_dynstat'\n",
    "num_viz = 4\n",
    "# how often the visit counts were saved\n",
    "visit_period = 100"
   ]
  },
  {
   "cell_type": "code",
   "execution_count": 13,
   "metadata": {},
   "outputs": [],
   "source": [
    "save_dir = join('heatmaps', save_dir)\n",
    "os.makedirs(save_dir, exist_ok=True)"
   ]
  },
  {
   "cell_type": "code",
   "execution_count": 14,
   "metadata": {},
   "outputs": [],
   "source": [
    "def roundup(x, period):\n",
    "    return int(math.ceil(x / period)) * period\n",
    "\n",
    "def get_epoch(max_epoch, num_viz, i, visit_period):\n",
    "    return min(roundup(max_epoch // (num_viz - 1) * i, visit_period), max_epoch) if num_viz > 1 else max_epoch"
   ]
  },
  {
   "cell_type": "code",
   "execution_count": 15,
   "metadata": {},
   "outputs": [
    {
     "name": "stdout",
     "output_type": "stream",
     "text": [
      "0\n",
      "700\n",
      "1300\n",
      "1900\n",
      "0\n",
      "700\n",
      "1300\n",
      "1900\n"
     ]
    },
    {
     "name": "stderr",
     "output_type": "stream",
     "text": [
      "/home/suvansh/anaconda3/lib/python3.6/site-packages/matplotlib/figure.py:445: UserWarning: Matplotlib is currently using module://ipykernel.pylab.backend_inline, which is a non-GUI backend, so cannot show the figure.\n",
      "  % get_backend())\n"
     ]
    },
    {
     "data": {
      "image/png": "[encoded data removed]",
      "text/plain": [
       "<Figure size 1080x288 with 4 Axes>"
      ]
     },
     "metadata": {},
     "output_type": "display_data"
    },
    {
     "data": {
      "image/png": "[encoded data removed]",
      "text/plain": [
       "<Figure size 1080x288 with 4 Axes>"
      ]
     },
     "metadata": {},
     "output_type": "display_data"
    }
   ],
   "source": [
    "dirpath, dirnames, _ = next(os.walk(exps_dir))\n",
    "\n",
    "if not seeds:\n",
    "    for exp_dir in dirnames:\n",
    "        # plotting setup\n",
    "        fig, axes = plt.subplots(1, num_viz, figsize=(10,60))\n",
    "        plt.subplots_adjust(hspace=0.001)\n",
    "\n",
    "        full_path = join(dirpath, exp_dir)\n",
    "        print(exp_dir)\n",
    "        visit_files = glob(join(full_path, 'visit_*.npy'))\n",
    "        if not visit_files:\n",
    "            continue\n",
    "        max_epoch_file = max(visit_files, key=lambda f: int(basename(f)[6:-4]))\n",
    "        max_epoch = int(basename(max_epoch_file)[6:-4])\n",
    "        for i in range(num_viz):\n",
    "            epoch = get_epoch(max_epoch, num_viz, i, visit_period)\n",
    "            visit_count = np.load(join(full_path, 'visit_%d.npy' % epoch))\n",
    "            axes[i].set_title('Epoch %d' % (epoch // 10))\n",
    "            axes[i].imshow(visit_count)\n",
    "        # TODO save `fig`\n",
    "else:\n",
    "    for sg_idx, seed_group in enumerate(seeds):\n",
    "        visit_counts = [[] for _ in range(num_viz)]\n",
    "        for seed in seed_group:\n",
    "            exp_dir = glob(join(exps_dir, '*%d' % seed))[0]\n",
    "            \n",
    "#             visit_files = glob(join(exp_dir, 'visit_*.npy'))\n",
    "#             if not visit_files:\n",
    "#                 continue\n",
    "#             max_epoch_file = max(visit_files, key=lambda f: int(basename(f)[6:-4]))\n",
    "#             max_epoch = int(basename(max_epoch_file)[6:-4])\n",
    "#             print(max_epoch)\n",
    "            \n",
    "            for i in range(num_viz):\n",
    "                epoch = get_epoch(NUM_EPOCH_CONST, num_viz, i, visit_period)\n",
    "                visit_path = join(exp_dir, 'visit_%d.npy' % epoch)\n",
    "                if not isfile(visit_path):\n",
    "                    continue\n",
    "                visit_count = np.load(visit_path)\n",
    "                visit_counts[i].append(visit_count)\n",
    "        sums = [sum(vc) for vc in visit_counts]\n",
    "        fig, axes = plt.subplots(1, num_viz, figsize=(15,4))\n",
    "        for i, s in enumerate(sums):\n",
    "            axes[i].set_title('Epoch %d' % get_epoch(NUM_EPOCH_CONST, num_viz, i, visit_period), fontsize=18)\n",
    "            print(get_epoch(NUM_EPOCH_CONST, num_viz, i, visit_period))\n",
    "            axes[i].imshow(s)\n",
    "            axes[i].set_xticks([])\n",
    "            axes[i].set_yticks([])\n",
    "        fig.show()\n",
    "        fig.suptitle('State Visitation Count (%s)' % titles[sg_idx], fontsize=24)\n",
    "        plt.savefig(join(save_dir, '%s_%s_%s.png' % (titles[sg_idx], exp_prefix, save_suffix)), bbox_inches=0)"
   ]
  },
  {
   "cell_type": "code",
   "execution_count": null,
   "metadata": {},
   "outputs": [],
   "source": []
  },
  {
   "cell_type": "code",
   "execution_count": null,
   "metadata": {},
   "outputs": [],
   "source": []
  }
 ],
 "metadata": {
  "kernelspec": {
   "display_name": "Python 3",
   "language": "python",
   "name": "python3"
  },
  "language_info": {
   "codemirror_mode": {
    "name": "ipython",
    "version": 3
   },
   "file_extension": ".py",
   "mimetype": "text/x-python",
   "name": "python",
   "nbconvert_exporter": "python",
   "pygments_lexer": "ipython3",
   "version": "3.6.5"
  }
 },
 "nbformat": 4,
 "nbformat_minor": 2
}